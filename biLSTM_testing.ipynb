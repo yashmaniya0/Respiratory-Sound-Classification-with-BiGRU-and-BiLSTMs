{
  "cells": [
    {
      "cell_type": "markdown",
      "metadata": {
        "id": "PxXcr-Dfu5Tn"
      },
      "source": [
        "## **Creating Dataset**"
      ]
    },
    {
      "cell_type": "code",
      "execution_count": 1,
      "metadata": {
        "id": "VHBHioL40_ju"
      },
      "outputs": [],
      "source": [
        "import os\n",
        "import pandas as pd\n",
        "import numpy as np\n",
        "import math\n",
        "import matplotlib.pyplot as plt\n",
        "import seaborn as sns\n",
        "import sklearn\n",
        "from sklearn import preprocessing\n",
        "from sklearn import model_selection\n",
        "from sklearn.model_selection import train_test_split as tts\n",
        "from sklearn import metrics\n",
        "from sklearn.utils import shuffle\n",
        "from xgboost import XGBClassifier as XGB\n",
        "import librosa\n",
        "import librosa.display\n",
        "import IPython.display as ipd\n",
        "from tqdm import tqdm\n",
        "\n",
        "import tensorflow as tf\n",
        "import keras\n",
        "from keras.layers import *\n",
        "from keras.models import *\n",
        "from keras import backend as K\n",
        "from keras.preprocessing import sequence\n",
        "from keras.models import Sequential\n",
        "from keras.models import Model\n",
        "from keras.layers import Dense, Dropout, Embedding, LSTM, Bidirectional\n",
        "import keras.layers as Layers\n",
        "\n",
        "import warnings\n",
        "warnings.filterwarnings(\"ignore\")"
      ]
    },
    {
      "cell_type": "code",
      "execution_count": 2,
      "metadata": {
        "id": "ug7AmKYn2pdQ"
      },
      "outputs": [],
      "source": [
        "\n",
        "raw_dataset = './raw dataset/'\n",
        "csv_path = './mldata.csv'\n",
        "np_dir = './np_arrays/'\n",
        "final_dataset = './final_dataset/'\n",
        "\n",
        "f_start = 101\n",
        "f_end = 639\n",
        "\n",
        "labels_df = pd.read_csv(csv_path)"
      ]
    },
    {
      "cell_type": "code",
      "execution_count": 3,
      "metadata": {
        "colab": {
          "base_uri": "https://localhost:8080/",
          "height": 206
        },
        "id": "IeCxXRL9cEpZ",
        "outputId": "a2ab96dc-1ef9-4a1b-9d80-d2386025fbbf"
      },
      "outputs": [
        {
          "data": {
            "text/html": [
              "<div>\n",
              "<style scoped>\n",
              "    .dataframe tbody tr th:only-of-type {\n",
              "        vertical-align: middle;\n",
              "    }\n",
              "\n",
              "    .dataframe tbody tr th {\n",
              "        vertical-align: top;\n",
              "    }\n",
              "\n",
              "    .dataframe thead th {\n",
              "        text-align: right;\n",
              "    }\n",
              "</style>\n",
              "<table border=\"1\" class=\"dataframe\">\n",
              "  <thead>\n",
              "    <tr style=\"text-align: right;\">\n",
              "      <th></th>\n",
              "      <th>patient</th>\n",
              "      <th>crackles</th>\n",
              "      <th>wheezes</th>\n",
              "      <th>class</th>\n",
              "    </tr>\n",
              "  </thead>\n",
              "  <tbody>\n",
              "    <tr>\n",
              "      <th>0</th>\n",
              "      <td>101</td>\n",
              "      <td>0</td>\n",
              "      <td>11</td>\n",
              "      <td>2</td>\n",
              "    </tr>\n",
              "    <tr>\n",
              "      <th>1</th>\n",
              "      <td>102</td>\n",
              "      <td>0</td>\n",
              "      <td>0</td>\n",
              "      <td>0</td>\n",
              "    </tr>\n",
              "    <tr>\n",
              "      <th>2</th>\n",
              "      <td>103</td>\n",
              "      <td>0</td>\n",
              "      <td>5</td>\n",
              "      <td>2</td>\n",
              "    </tr>\n",
              "    <tr>\n",
              "      <th>3</th>\n",
              "      <td>104</td>\n",
              "      <td>0</td>\n",
              "      <td>2</td>\n",
              "      <td>2</td>\n",
              "    </tr>\n",
              "    <tr>\n",
              "      <th>4</th>\n",
              "      <td>105</td>\n",
              "      <td>0</td>\n",
              "      <td>0</td>\n",
              "      <td>0</td>\n",
              "    </tr>\n",
              "  </tbody>\n",
              "</table>\n",
              "</div>"
            ],
            "text/plain": [
              "   patient  crackles  wheezes  class\n",
              "0      101         0       11      2\n",
              "1      102         0        0      0\n",
              "2      103         0        5      2\n",
              "3      104         0        2      2\n",
              "4      105         0        0      0"
            ]
          },
          "execution_count": 3,
          "metadata": {},
          "output_type": "execute_result"
        }
      ],
      "source": [
        "labels = []\n",
        "\n",
        "for i in range(len(labels_df)):\n",
        "    crackles = labels_df['crackles'][i]\n",
        "    wheezes = labels_df['wheezes'][i]\n",
        "    if crackles==0 and wheezes==0:\n",
        "        labels.append(0)\n",
        "    elif crackles and wheezes:\n",
        "        labels.append(3)\n",
        "    elif crackles==0 and wheezes!=0:\n",
        "        labels.append(2)\n",
        "    elif crackles!=0 and wheezes==0:\n",
        "        labels.append(1)\n",
        "    else:\n",
        "        labels.append(-1)\n",
        "\n",
        "labels_df['class'] = labels\n",
        "labels_df = pd.concat([labels_df['patient'], labels_df['crackles'],labels_df['wheezes'],labels_df['class']], axis=1)\n",
        "labels_df.to_csv(csv_path)\n",
        "\n",
        "labels_df.head()"
      ]
    },
    {
      "cell_type": "code",
      "execution_count": 4,
      "metadata": {
        "colab": {
          "base_uri": "https://localhost:8080/",
          "height": 206
        },
        "id": "iE9Jr67poGYQ",
        "outputId": "5efa9510-493e-4a22-89c1-87d4bd0fe316"
      },
      "outputs": [
        {
          "data": {
            "text/html": [
              "<div>\n",
              "<style scoped>\n",
              "    .dataframe tbody tr th:only-of-type {\n",
              "        vertical-align: middle;\n",
              "    }\n",
              "\n",
              "    .dataframe tbody tr th {\n",
              "        vertical-align: top;\n",
              "    }\n",
              "\n",
              "    .dataframe thead th {\n",
              "        text-align: right;\n",
              "    }\n",
              "</style>\n",
              "<table border=\"1\" class=\"dataframe\">\n",
              "  <thead>\n",
              "    <tr style=\"text-align: right;\">\n",
              "      <th></th>\n",
              "      <th>patient</th>\n",
              "      <th>features</th>\n",
              "      <th>class</th>\n",
              "    </tr>\n",
              "  </thead>\n",
              "  <tbody>\n",
              "    <tr>\n",
              "      <th>0</th>\n",
              "      <td>101</td>\n",
              "      <td>[[0.0, 0.0, 0.0, -445.4117126464844, 0.0, 0.0,...</td>\n",
              "      <td>2</td>\n",
              "    </tr>\n",
              "    <tr>\n",
              "      <th>1</th>\n",
              "      <td>102</td>\n",
              "      <td>[[0.0, 0.09875842928886414, 1049.1760661583844...</td>\n",
              "      <td>0</td>\n",
              "    </tr>\n",
              "    <tr>\n",
              "      <th>2</th>\n",
              "      <td>103</td>\n",
              "      <td>[[6.0, 0.06401204317808151, 659.8168860261126,...</td>\n",
              "      <td>2</td>\n",
              "    </tr>\n",
              "    <tr>\n",
              "      <th>3</th>\n",
              "      <td>104</td>\n",
              "      <td>[[0.0, 0.0844806358218193, 1117.7693469286253,...</td>\n",
              "      <td>2</td>\n",
              "    </tr>\n",
              "    <tr>\n",
              "      <th>4</th>\n",
              "      <td>105</td>\n",
              "      <td>[[0.0, 0.0, 0.0, -424.2092590332031, 0.0, 0.0,...</td>\n",
              "      <td>0</td>\n",
              "    </tr>\n",
              "  </tbody>\n",
              "</table>\n",
              "</div>"
            ],
            "text/plain": [
              "   patient                                           features  class\n",
              "0      101  [[0.0, 0.0, 0.0, -445.4117126464844, 0.0, 0.0,...      2\n",
              "1      102  [[0.0, 0.09875842928886414, 1049.1760661583844...      0\n",
              "2      103  [[6.0, 0.06401204317808151, 659.8168860261126,...      2\n",
              "3      104  [[0.0, 0.0844806358218193, 1117.7693469286253,...      2\n",
              "4      105  [[0.0, 0.0, 0.0, -424.2092590332031, 0.0, 0.0,...      0"
            ]
          },
          "execution_count": 4,
          "metadata": {},
          "output_type": "execute_result"
        }
      ],
      "source": [
        "data_3d = []                                                                    # ran ~ 3 min 30 secs\n",
        "\n",
        "for patient in range(f_start,f_end+1):\n",
        "    row = np.load(final_dataset+str(patient)+'.npy')\n",
        "    data_3d.append(row)\n",
        "\n",
        "df = pd.DataFrame({'patient':labels_df['patient'], 'features':data_3d, 'class':labels_df['class']})\n",
        "df.head()"
      ]
    },
    {
      "cell_type": "code",
      "execution_count": 5,
      "metadata": {
        "id": "mc6P7WKFq572"
      },
      "outputs": [],
      "source": [
        "X = np.asarray(data_3d)\n",
        "Y = np.asarray(labels_df['class'])\n",
        "\n",
        "X_train, X_test, Y_train, Y_test = tts(X,Y, test_size=0.3, random_state=42)\n",
        "X_train, X_val, Y_train, Y_val = tts(X_train,Y_train, test_size=0.25, random_state=42)\n",
        "\n",
        "\n",
        "X_train = np.asarray(X_train)\n",
        "X_val = np.asarray(X_val)"
      ]
    },
    {
      "cell_type": "code",
      "execution_count": 6,
      "metadata": {
        "colab": {
          "base_uri": "https://localhost:8080/"
        },
        "id": "ij1bJKRn3oxM",
        "outputId": "4060d99d-5ed6-4115-9c10-eb1284b99f11"
      },
      "outputs": [
        {
          "data": {
            "text/plain": [
              "array([[0., 0., 0., 1.],\n",
              "       [0., 0., 0., 1.],\n",
              "       [0., 1., 0., 0.],\n",
              "       ...,\n",
              "       [1., 0., 0., 0.],\n",
              "       [0., 1., 0., 0.],\n",
              "       [1., 0., 0., 0.]])"
            ]
          },
          "execution_count": 6,
          "metadata": {},
          "output_type": "execute_result"
        }
      ],
      "source": [
        "OneHot = sklearn.preprocessing.OneHotEncoder()\n",
        "\n",
        "OneHot.fit(np.reshape(Y_train, (-1,1)))\n",
        "\n",
        "Y_train_OH = OneHot.transform(np.reshape(Y_train, (-1,1))).toarray()\n",
        "Y_val_OH = OneHot.transform(np.reshape(Y_val, (-1,1))).toarray()\n",
        "Y_test_OH = OneHot.transform(np.reshape(Y_test, (-1,1))).toarray()\n",
        "Y_OH = OneHot.transform(np.reshape(Y, (-1,1))).toarray()\n",
        "\n",
        "Y_train_OH"
      ]
    },
    {
      "cell_type": "markdown",
      "metadata": {
        "id": "cDIv5KsIqs22"
      },
      "source": [
        "## **BiLSTM Models**"
      ]
    },
    {
      "cell_type": "markdown",
      "metadata": {
        "id": "ze28kcC25Lqt"
      },
      "source": [
        "### Model 1"
      ]
    },
    {
      "cell_type": "code",
      "execution_count": 26,
      "metadata": {},
      "outputs": [],
      "source": [
        "import pydotplus                        # for plotting models\n",
        "pydotplus.find_graphviz()"
      ]
    },
    {
      "cell_type": "code",
      "execution_count": 47,
      "metadata": {
        "colab": {
          "base_uri": "https://localhost:8080/",
          "height": 1000
        },
        "id": "hiEfGCqGak-D",
        "outputId": "539acbad-5d13-450d-a98a-7c6dba239412"
      },
      "outputs": [
        {
          "name": "stdout",
          "output_type": "stream",
          "text": [
            "Model: \"model_12\"\n",
            "_________________________________________________________________\n",
            " Layer (type)                Output Shape              Param #   \n",
            "=================================================================\n",
            " input_14 (InputLayer)       [(None, 862, 47)]         0         \n",
            "                                                                 \n",
            " bidirectional_13 (Bidirecti  (None, 862, 128)         57344     \n",
            " onal)                                                           \n",
            "                                                                 \n",
            " flatten_13 (Flatten)        (None, 110336)            0         \n",
            "                                                                 \n",
            " dense_38 (Dense)            (None, 1024)              112985088 \n",
            "                                                                 \n",
            " dense_39 (Dense)            (None, 256)               262400    \n",
            "                                                                 \n",
            " dense_40 (Dense)            (None, 4)                 1028      \n",
            "                                                                 \n",
            "=================================================================\n",
            "Total params: 113,305,860\n",
            "Trainable params: 113,305,860\n",
            "Non-trainable params: 0\n",
            "_________________________________________________________________\n",
            "('You must install pydot (`pip install pydot`) and install graphviz (see instructions at https://graphviz.gitlab.io/download/) ', 'for plot_model/model_to_dot to work.')\n"
          ]
        }
      ],
      "source": [
        "input1 = tf.keras.Input(shape=(862,47))\n",
        "x1 = tf.keras.layers.Bidirectional(tf.keras.layers.LSTM(64,input_shape=(None,862,47),return_sequences=True, dropout=0.01,recurrent_dropout=0.03))(input1)\n",
        "x2 = tf.keras.layers.Flatten()(x1)\n",
        "x3 = tf.keras.layers.Dense(1024, activation=\"relu\")(x2)\n",
        "x5 = tf.keras.layers.Dense(256, activation=\"relu\")(x3)\n",
        "output1 = tf.keras.layers.Dense(4, activation=\"sigmoid\")(x5)\n",
        "model1 =keras.Model(inputs=input1, outputs=[output1])\n",
        "\n",
        "model1.compile(loss='CategoricalCrossentropy', optimizer=tf.keras.optimizers.SGD(0.0005), metrics=['accuracy'])\n",
        "model1.summary()\n",
        "\n",
        "tf.keras.utils.plot_model(model1, \"./model_imgs/model1.png\",show_shapes=True)"
      ]
    },
    {
      "cell_type": "markdown",
      "metadata": {
        "id": "N8TGJJKv5Opc"
      },
      "source": [
        "### Model 2"
      ]
    },
    {
      "cell_type": "code",
      "execution_count": 30,
      "metadata": {
        "colab": {
          "base_uri": "https://localhost:8080/",
          "height": 1000
        },
        "id": "1-p0xXZpwHo9",
        "outputId": "27bb8d53-c969-49fa-ae8f-170110c2c463"
      },
      "outputs": [
        {
          "name": "stdout",
          "output_type": "stream",
          "text": [
            "Model: \"model_8\"\n",
            "__________________________________________________________________________________________________\n",
            " Layer (type)                   Output Shape         Param #     Connected to                     \n",
            "==================================================================================================\n",
            " input_10 (InputLayer)          [(None, 862, 47)]    0           []                               \n",
            "                                                                                                  \n",
            " bidirectional_9 (Bidirectional  (None, 862, 16)     3584        ['input_10[0][0]']               \n",
            " )                                                                                                \n",
            "                                                                                                  \n",
            " flatten_9 (Flatten)            (None, 13792)        0           ['bidirectional_9[0][0]']        \n",
            "                                                                                                  \n",
            " dense_26 (Dense)               (None, 512)          7062016     ['flatten_9[0][0]']              \n",
            "                                                                                                  \n",
            " dense_27 (Dense)               (None, 128)          65664       ['dense_26[0][0]']               \n",
            "                                                                                                  \n",
            " attention_5 (Attention)        (None, 128)          0           ['dense_27[0][0]',               \n",
            "                                                                  'dense_27[0][0]']               \n",
            "                                                                                                  \n",
            " dense_28 (Dense)               (None, 4)            516         ['attention_5[0][0]']            \n",
            "                                                                                                  \n",
            "==================================================================================================\n",
            "Total params: 7,131,780\n",
            "Trainable params: 7,131,780\n",
            "Non-trainable params: 0\n",
            "__________________________________________________________________________________________________\n",
            "('You must install pydot (`pip install pydot`) and install graphviz (see instructions at https://graphviz.gitlab.io/download/) ', 'for plot_model/model_to_dot to work.')\n"
          ]
        }
      ],
      "source": [
        "class attention(Layer):\n",
        "    def __init__(self, return_sequences=True):\n",
        "        self.return_sequences = return_sequences\n",
        "        super(attention,self).__init__()\n",
        "\n",
        "    def build(self, input_shape):\n",
        "        self.W=self.add_weight(name=\"att_weight\", shape=(input_shape[-1],1), initializer=\"normal\")\n",
        "        self.b=self.add_weight(name=\"att_bias\", shape=(input_shape[1],1), initializer=\"normal\")\n",
        "        self.b=self.add_weight(name=\"att_bias\", shape=(input_shape[1],1), initializer=\"normal\")\n",
        "        self.b=self.add_weight(name=\"att_bias\", shape=(input_shape[1],1), initializer=\"normal\")\n",
        "        super(attention,self).build(input_shape)\n",
        "\n",
        "    def call(self, x):\n",
        "        e = K.tanh(K.dot(x,self.W)+self.b)\n",
        "        a = K.softmax(e, axis=1)\n",
        "        output = x*a\n",
        "        if self.return_sequences:\n",
        "            return output\n",
        "        return K.sum(output, axis=1)\n",
        "\n",
        "\n",
        "input2 = tf.keras.Input(shape=(862,47))\n",
        "xx1 = tf.keras.layers.Bidirectional(tf.keras.layers.LSTM(8,input_shape=(None,862,47),return_sequences=True, dropout=0.2,recurrent_dropout=0.1))(input2)\n",
        "xx2 = tf.keras.layers.Flatten()(xx1)\n",
        "xx2 = tf.keras.layers.Dense(512, activation=\"relu\")(xx2)\n",
        "xx3 = tf.keras.layers.Dense(128, activation=\"relu\")(xx2)\n",
        "xx4 = tf.keras.layers.Attention()([xx3,xx3])\n",
        "out2=tf.keras.layers.Dense(4, activation=\"sigmoid\")(xx4)\n",
        "\n",
        "model2 =keras.Model(inputs=input2, outputs=out2)\n",
        "\n",
        "model2.compile(loss='CategoricalCrossentropy', optimizer=tf.keras.optimizers.SGD(0.0005), metrics=['accuracy'])\n",
        "model2.summary()\n",
        "\n",
        "tf.keras.utils.plot_model(model2, \"./model_imgs/model2.png\",show_shapes=True)"
      ]
    },
    {
      "cell_type": "markdown",
      "metadata": {
        "id": "ztvDgLgoXmHR"
      },
      "source": [
        "### Model 3 : **Bi-LSTM + XGBoost**"
      ]
    },
    {
      "cell_type": "code",
      "execution_count": 10,
      "metadata": {
        "colab": {
          "base_uri": "https://localhost:8080/"
        },
        "id": "mxn7tsubXx0v",
        "outputId": "58013975-c783-461a-c852-7e10db776d35"
      },
      "outputs": [
        {
          "name": "stdout",
          "output_type": "stream",
          "text": [
            "Model: \"model_2\"\n",
            "_________________________________________________________________\n",
            " Layer (type)                Output Shape              Param #   \n",
            "=================================================================\n",
            " input_3 (InputLayer)        [(None, 862, 47)]         0         \n",
            "                                                                 \n",
            " bidirectional_2 (Bidirectio  (None, 862, 128)         57344     \n",
            " nal)                                                            \n",
            "                                                                 \n",
            " flatten_2 (Flatten)         (None, 110336)            0         \n",
            "                                                                 \n",
            " dense_6 (Dense)             (None, 1024)              112985088 \n",
            "                                                                 \n",
            " dense_7 (Dense)             (None, 256)               262400    \n",
            "                                                                 \n",
            " dense_8 (Dense)             (None, 4)                 1028      \n",
            "                                                                 \n",
            "=================================================================\n",
            "Total params: 113,305,860\n",
            "Trainable params: 113,305,860\n",
            "Non-trainable params: 0\n",
            "_________________________________________________________________\n",
            "('You must install pydot (`pip install pydot`) and install graphviz (see instructions at https://graphviz.gitlab.io/download/) ', 'for plot_model/model_to_dot to work.')\n"
          ]
        }
      ],
      "source": [
        "input3 = tf.keras.Input(shape=(862,47))\n",
        "z1 = tf.keras.layers.Bidirectional(tf.keras.layers.LSTM(64,input_shape=(None,862,47),return_sequences=True, dropout=0.05,recurrent_dropout=0.03))(input3)\n",
        "z2 = tf.keras.layers.Flatten()(z1)\n",
        "z3 = tf.keras.layers.Dense(1024, activation=\"relu\")(z2)\n",
        "z5 = tf.keras.layers.Dense(256, activation=\"relu\")(z3)\n",
        "output3 = tf.keras.layers.Dense(4, activation=\"softmax\")(z5)\n",
        "model3 =keras.Model(inputs=input3, outputs=[z3,output3])\n",
        "\n",
        "model3.compile(loss='CategoricalCrossentropy', optimizer=tf.keras.optimizers.SGD(0.0001), metrics=['accuracy'])\n",
        "model3.summary()\n",
        "\n",
        "tf.keras.utils.plot_model(model3, \"./model_imgs/model3.png\",show_shapes=True)"
      ]
    },
    {
      "cell_type": "code",
      "execution_count": 11,
      "metadata": {
        "colab": {
          "base_uri": "https://localhost:8080/"
        },
        "id": "EEDbBQOVin13",
        "outputId": "07be01d1-549d-48a3-ddfd-750647a6160f"
      },
      "outputs": [
        {
          "name": "stdout",
          "output_type": "stream",
          "text": [
            "[16:28:46] WARNING: C:/Users/Administrator/workspace/xgboost-win64_release_1.5.1/src/learner.cc:1115: Starting in XGBoost 1.3.0, the default evaluation metric used with the objective 'multi:softprob' was changed from 'merror' to 'mlogloss'. Explicitly set eval_metric if you'd like to restore the old behavior.\n",
            "0.6901669758812616\n"
          ]
        }
      ],
      "source": [
        "features_xgb = model3(X_train)[0]\n",
        "xgb_model = XGB()\n",
        "xgb_model.fit(features_xgb, Y_train)\n",
        "features_test = model3(X)[0]\n",
        "ypreds = xgb_model.predict(features_test)\n",
        "\n",
        "print(metrics.accuracy_score(Y, ypreds))"
      ]
    },
    {
      "cell_type": "markdown",
      "metadata": {
        "id": "pAkC0xTZZkkF"
      },
      "source": [
        "### Training"
      ]
    },
    {
      "cell_type": "code",
      "execution_count": 49,
      "metadata": {
        "colab": {
          "base_uri": "https://localhost:8080/",
          "height": 1000
        },
        "id": "e079cxiRyB4P",
        "outputId": "d83d91ef-1711-451b-baeb-09aa6549709a"
      },
      "outputs": [
        {
          "name": "stdout",
          "output_type": "stream",
          "text": [
            "Epoch 1/50\n",
            "8/8 [==============================] - ETA: 0s - loss: 1.4331 - accuracy: 0.2489\n",
            "Epoch 00001: saving model to ./raw dataset\\weights.h5\n",
            "8/8 [==============================] - 22s 2s/step - loss: 1.4331 - accuracy: 0.2489 - val_loss: 1.7730 - val_accuracy: 0.2982\n",
            "Epoch 2/50\n",
            "8/8 [==============================] - ETA: 0s - loss: 1.3674 - accuracy: 0.4311\n",
            "Epoch 00002: saving model to ./raw dataset\\weights.h5\n",
            "8/8 [==============================] - 15s 2s/step - loss: 1.3674 - accuracy: 0.4311 - val_loss: 1.5908 - val_accuracy: 0.3509\n",
            "Epoch 3/50\n",
            "8/8 [==============================] - ETA: 0s - loss: 1.2647 - accuracy: 0.4044\n",
            "Epoch 00003: saving model to ./raw dataset\\weights.h5\n",
            "8/8 [==============================] - 15s 2s/step - loss: 1.2647 - accuracy: 0.4044 - val_loss: 1.8231 - val_accuracy: 0.2982\n",
            "Epoch 4/50\n",
            "8/8 [==============================] - ETA: 0s - loss: 1.3117 - accuracy: 0.4489\n",
            "Epoch 00004: saving model to ./raw dataset\\weights.h5\n",
            "8/8 [==============================] - 16s 2s/step - loss: 1.3117 - accuracy: 0.4489 - val_loss: 1.5723 - val_accuracy: 0.2982\n",
            "Epoch 5/50\n",
            "8/8 [==============================] - ETA: 0s - loss: 1.3244 - accuracy: 0.4311\n",
            "Epoch 00005: saving model to ./raw dataset\\weights.h5\n",
            "8/8 [==============================] - 15s 2s/step - loss: 1.3244 - accuracy: 0.4311 - val_loss: 1.7106 - val_accuracy: 0.2456\n",
            "Epoch 6/50\n",
            "8/8 [==============================] - ETA: 0s - loss: 1.2228 - accuracy: 0.4711\n",
            "Epoch 00006: saving model to ./raw dataset\\weights.h5\n",
            "8/8 [==============================] - 16s 2s/step - loss: 1.2228 - accuracy: 0.4711 - val_loss: 1.3803 - val_accuracy: 0.2982\n",
            "Epoch 7/50\n",
            "8/8 [==============================] - ETA: 0s - loss: 1.1839 - accuracy: 0.4844\n",
            "Epoch 00007: saving model to ./raw dataset\\weights.h5\n",
            "8/8 [==============================] - 15s 2s/step - loss: 1.1839 - accuracy: 0.4844 - val_loss: 1.4904 - val_accuracy: 0.3509\n",
            "Epoch 8/50\n",
            "8/8 [==============================] - ETA: 0s - loss: 1.0964 - accuracy: 0.5556\n",
            "Epoch 00008: saving model to ./raw dataset\\weights.h5\n",
            "8/8 [==============================] - 16s 2s/step - loss: 1.0964 - accuracy: 0.5556 - val_loss: 1.8228 - val_accuracy: 0.2807\n",
            "Epoch 9/50\n",
            "8/8 [==============================] - ETA: 0s - loss: 1.1695 - accuracy: 0.4756\n",
            "Epoch 00009: saving model to ./raw dataset\\weights.h5\n",
            "8/8 [==============================] - 16s 2s/step - loss: 1.1695 - accuracy: 0.4756 - val_loss: 1.7156 - val_accuracy: 0.2982\n",
            "Epoch 10/50\n",
            "8/8 [==============================] - ETA: 0s - loss: 1.1460 - accuracy: 0.5467\n",
            "Epoch 00010: saving model to ./raw dataset\\weights.h5\n",
            "8/8 [==============================] - 17s 2s/step - loss: 1.1460 - accuracy: 0.5467 - val_loss: 1.5497 - val_accuracy: 0.3333\n",
            "Epoch 11/50\n",
            "8/8 [==============================] - ETA: 0s - loss: 1.0724 - accuracy: 0.5333\n",
            "Epoch 00011: saving model to ./raw dataset\\weights.h5\n",
            "8/8 [==============================] - 16s 2s/step - loss: 1.0724 - accuracy: 0.5333 - val_loss: 1.7036 - val_accuracy: 0.1930\n",
            "Epoch 12/50\n",
            "8/8 [==============================] - ETA: 0s - loss: 1.0708 - accuracy: 0.5867\n",
            "Epoch 00012: saving model to ./raw dataset\\weights.h5\n",
            "8/8 [==============================] - 16s 2s/step - loss: 1.0708 - accuracy: 0.5867 - val_loss: 1.8250 - val_accuracy: 0.2982\n",
            "Epoch 13/50\n",
            "8/8 [==============================] - ETA: 0s - loss: 1.1218 - accuracy: 0.5289\n",
            "Epoch 00013: saving model to ./raw dataset\\weights.h5\n",
            "8/8 [==============================] - 16s 2s/step - loss: 1.1218 - accuracy: 0.5289 - val_loss: 1.6799 - val_accuracy: 0.3158\n",
            "Epoch 14/50\n",
            "8/8 [==============================] - ETA: 0s - loss: 1.0174 - accuracy: 0.5422\n",
            "Epoch 00014: saving model to ./raw dataset\\weights.h5\n",
            "8/8 [==============================] - 16s 2s/step - loss: 1.0174 - accuracy: 0.5422 - val_loss: 1.4607 - val_accuracy: 0.3158\n",
            "Epoch 15/50\n",
            "8/8 [==============================] - ETA: 0s - loss: 0.9405 - accuracy: 0.6044\n",
            "Epoch 00015: saving model to ./raw dataset\\weights.h5\n",
            "8/8 [==============================] - 16s 2s/step - loss: 0.9405 - accuracy: 0.6044 - val_loss: 1.4890 - val_accuracy: 0.3158\n",
            "Epoch 16/50\n",
            "8/8 [==============================] - ETA: 0s - loss: 0.9323 - accuracy: 0.5956\n",
            "Epoch 00016: saving model to ./raw dataset\\weights.h5\n",
            "8/8 [==============================] - 16s 2s/step - loss: 0.9323 - accuracy: 0.5956 - val_loss: 1.6577 - val_accuracy: 0.3684\n",
            "Epoch 17/50\n",
            "8/8 [==============================] - ETA: 0s - loss: 0.9498 - accuracy: 0.6400\n",
            "Epoch 00017: saving model to ./raw dataset\\weights.h5\n",
            "8/8 [==============================] - 16s 2s/step - loss: 0.9498 - accuracy: 0.6400 - val_loss: 1.7256 - val_accuracy: 0.3158\n",
            "Epoch 18/50\n",
            "8/8 [==============================] - ETA: 0s - loss: 0.9336 - accuracy: 0.6311\n",
            "Epoch 00018: saving model to ./raw dataset\\weights.h5\n",
            "8/8 [==============================] - 17s 2s/step - loss: 0.9336 - accuracy: 0.6311 - val_loss: 1.6793 - val_accuracy: 0.3509\n",
            "Epoch 19/50\n",
            "8/8 [==============================] - ETA: 0s - loss: 0.9461 - accuracy: 0.6667\n",
            "Epoch 00019: saving model to ./raw dataset\\weights.h5\n",
            "8/8 [==============================] - 17s 2s/step - loss: 0.9461 - accuracy: 0.6667 - val_loss: 1.7013 - val_accuracy: 0.3158\n",
            "Epoch 20/50\n",
            "8/8 [==============================] - ETA: 0s - loss: 0.8582 - accuracy: 0.6844\n",
            "Epoch 00020: saving model to ./raw dataset\\weights.h5\n",
            "8/8 [==============================] - 18s 2s/step - loss: 0.8582 - accuracy: 0.6844 - val_loss: 1.4955 - val_accuracy: 0.3158\n",
            "Epoch 21/50\n",
            "8/8 [==============================] - ETA: 0s - loss: 0.8217 - accuracy: 0.7111\n",
            "Epoch 00021: saving model to ./raw dataset\\weights.h5\n",
            "8/8 [==============================] - 16s 2s/step - loss: 0.8217 - accuracy: 0.7111 - val_loss: 1.4826 - val_accuracy: 0.3860\n",
            "Epoch 22/50\n",
            "8/8 [==============================] - ETA: 0s - loss: 0.8619 - accuracy: 0.7333\n",
            "Epoch 00022: saving model to ./raw dataset\\weights.h5\n",
            "8/8 [==============================] - 17s 2s/step - loss: 0.8619 - accuracy: 0.7333 - val_loss: 1.7934 - val_accuracy: 0.2807\n",
            "Epoch 23/50\n",
            "8/8 [==============================] - ETA: 0s - loss: 0.8807 - accuracy: 0.6622\n",
            "Epoch 00023: saving model to ./raw dataset\\weights.h5\n",
            "8/8 [==============================] - 17s 2s/step - loss: 0.8807 - accuracy: 0.6622 - val_loss: 1.4838 - val_accuracy: 0.3509\n",
            "Epoch 24/50\n",
            "8/8 [==============================] - ETA: 0s - loss: 0.7686 - accuracy: 0.7600\n",
            "Epoch 00024: saving model to ./raw dataset\\weights.h5\n",
            "8/8 [==============================] - 16s 2s/step - loss: 0.7686 - accuracy: 0.7600 - val_loss: 1.6752 - val_accuracy: 0.3509\n",
            "Epoch 25/50\n",
            "8/8 [==============================] - ETA: 0s - loss: 0.8428 - accuracy: 0.7200\n",
            "Epoch 00025: saving model to ./raw dataset\\weights.h5\n",
            "8/8 [==============================] - 16s 2s/step - loss: 0.8428 - accuracy: 0.7200 - val_loss: 1.9026 - val_accuracy: 0.3333\n",
            "Epoch 26/50\n",
            "8/8 [==============================] - ETA: 0s - loss: 0.8018 - accuracy: 0.7200\n",
            "Epoch 00026: saving model to ./raw dataset\\weights.h5\n",
            "8/8 [==============================] - 16s 2s/step - loss: 0.8018 - accuracy: 0.7200 - val_loss: 1.7756 - val_accuracy: 0.3860\n",
            "Epoch 27/50\n",
            "8/8 [==============================] - ETA: 0s - loss: 0.7822 - accuracy: 0.7467\n",
            "Epoch 00027: saving model to ./raw dataset\\weights.h5\n",
            "8/8 [==============================] - 16s 2s/step - loss: 0.7822 - accuracy: 0.7467 - val_loss: 1.9081 - val_accuracy: 0.1930\n",
            "Epoch 28/50\n",
            "8/8 [==============================] - ETA: 0s - loss: 0.8176 - accuracy: 0.7022\n",
            "Epoch 00028: saving model to ./raw dataset\\weights.h5\n",
            "8/8 [==============================] - 16s 2s/step - loss: 0.8176 - accuracy: 0.7022 - val_loss: 1.8198 - val_accuracy: 0.3509\n",
            "Epoch 29/50\n",
            "8/8 [==============================] - ETA: 0s - loss: 0.7984 - accuracy: 0.7422\n",
            "Epoch 00029: saving model to ./raw dataset\\weights.h5\n",
            "8/8 [==============================] - 16s 2s/step - loss: 0.7984 - accuracy: 0.7422 - val_loss: 1.8777 - val_accuracy: 0.3158\n",
            "Epoch 30/50\n",
            "8/8 [==============================] - ETA: 0s - loss: 0.7791 - accuracy: 0.7333\n",
            "Epoch 00030: saving model to ./raw dataset\\weights.h5\n",
            "8/8 [==============================] - 16s 2s/step - loss: 0.7791 - accuracy: 0.7333 - val_loss: 1.8002 - val_accuracy: 0.3509\n",
            "Epoch 31/50\n",
            "8/8 [==============================] - ETA: 0s - loss: 0.7629 - accuracy: 0.7511\n",
            "Epoch 00031: saving model to ./raw dataset\\weights.h5\n",
            "8/8 [==============================] - 16s 2s/step - loss: 0.7629 - accuracy: 0.7511 - val_loss: 1.8366 - val_accuracy: 0.2982\n",
            "Epoch 32/50\n",
            "8/8 [==============================] - ETA: 0s - loss: 0.7335 - accuracy: 0.7067\n",
            "Epoch 00032: saving model to ./raw dataset\\weights.h5\n",
            "8/8 [==============================] - 17s 2s/step - loss: 0.7335 - accuracy: 0.7067 - val_loss: 1.6746 - val_accuracy: 0.3509\n",
            "Epoch 33/50\n",
            "8/8 [==============================] - ETA: 0s - loss: 0.8066 - accuracy: 0.7689\n",
            "Epoch 00033: saving model to ./raw dataset\\weights.h5\n",
            "8/8 [==============================] - 17s 2s/step - loss: 0.8066 - accuracy: 0.7689 - val_loss: 2.1036 - val_accuracy: 0.2632\n",
            "Epoch 34/50\n",
            "8/8 [==============================] - ETA: 0s - loss: 0.8072 - accuracy: 0.6978\n",
            "Epoch 00034: saving model to ./raw dataset\\weights.h5\n",
            "8/8 [==============================] - 17s 2s/step - loss: 0.8072 - accuracy: 0.6978 - val_loss: 2.2021 - val_accuracy: 0.3158\n",
            "Epoch 35/50\n",
            "8/8 [==============================] - ETA: 0s - loss: 0.7897 - accuracy: 0.7556\n",
            "Epoch 00035: saving model to ./raw dataset\\weights.h5\n",
            "8/8 [==============================] - 17s 2s/step - loss: 0.7897 - accuracy: 0.7556 - val_loss: 1.6385 - val_accuracy: 0.4035\n",
            "Epoch 36/50\n",
            "8/8 [==============================] - ETA: 0s - loss: 0.7147 - accuracy: 0.7689\n",
            "Epoch 00036: saving model to ./raw dataset\\weights.h5\n",
            "8/8 [==============================] - 17s 2s/step - loss: 0.7147 - accuracy: 0.7689 - val_loss: 1.4681 - val_accuracy: 0.3684\n",
            "Epoch 37/50\n",
            "8/8 [==============================] - ETA: 0s - loss: 0.5999 - accuracy: 0.8311\n",
            "Epoch 00037: saving model to ./raw dataset\\weights.h5\n",
            "8/8 [==============================] - 17s 2s/step - loss: 0.5999 - accuracy: 0.8311 - val_loss: 1.7156 - val_accuracy: 0.3158\n",
            "Epoch 38/50\n",
            "8/8 [==============================] - ETA: 0s - loss: 0.6216 - accuracy: 0.8222\n",
            "Epoch 00038: saving model to ./raw dataset\\weights.h5\n",
            "8/8 [==============================] - 17s 2s/step - loss: 0.6216 - accuracy: 0.8222 - val_loss: 1.4985 - val_accuracy: 0.3684\n",
            "Epoch 39/50\n",
            "8/8 [==============================] - ETA: 0s - loss: 0.5545 - accuracy: 0.8444\n",
            "Epoch 00039: saving model to ./raw dataset\\weights.h5\n",
            "8/8 [==============================] - 17s 2s/step - loss: 0.5545 - accuracy: 0.8444 - val_loss: 1.6122 - val_accuracy: 0.3333\n",
            "Epoch 40/50\n",
            "8/8 [==============================] - ETA: 0s - loss: 0.5789 - accuracy: 0.8267\n",
            "Epoch 00040: saving model to ./raw dataset\\weights.h5\n",
            "8/8 [==============================] - 17s 2s/step - loss: 0.5789 - accuracy: 0.8267 - val_loss: 1.4298 - val_accuracy: 0.3860\n",
            "Epoch 41/50\n",
            "8/8 [==============================] - ETA: 0s - loss: 0.5417 - accuracy: 0.8756\n",
            "Epoch 00041: saving model to ./raw dataset\\weights.h5\n",
            "8/8 [==============================] - 17s 2s/step - loss: 0.5417 - accuracy: 0.8756 - val_loss: 1.7518 - val_accuracy: 0.2456\n",
            "Epoch 42/50\n",
            "8/8 [==============================] - ETA: 0s - loss: 0.5537 - accuracy: 0.8444\n",
            "Epoch 00042: saving model to ./raw dataset\\weights.h5\n",
            "8/8 [==============================] - 17s 2s/step - loss: 0.5537 - accuracy: 0.8444 - val_loss: 2.5197 - val_accuracy: 0.3333\n",
            "Epoch 43/50\n",
            "8/8 [==============================] - ETA: 0s - loss: 0.6888 - accuracy: 0.7956\n",
            "Epoch 00043: saving model to ./raw dataset\\weights.h5\n",
            "8/8 [==============================] - 16s 2s/step - loss: 0.6888 - accuracy: 0.7956 - val_loss: 2.3453 - val_accuracy: 0.2982\n",
            "Epoch 44/50\n",
            "8/8 [==============================] - ETA: 0s - loss: 0.6841 - accuracy: 0.7778\n",
            "Epoch 00044: saving model to ./raw dataset\\weights.h5\n",
            "8/8 [==============================] - 17s 2s/step - loss: 0.6841 - accuracy: 0.7778 - val_loss: 1.5758 - val_accuracy: 0.4386\n",
            "Epoch 45/50\n",
            "8/8 [==============================] - ETA: 0s - loss: 0.5213 - accuracy: 0.8667\n",
            "Epoch 00045: saving model to ./raw dataset\\weights.h5\n",
            "8/8 [==============================] - 17s 2s/step - loss: 0.5213 - accuracy: 0.8667 - val_loss: 1.9497 - val_accuracy: 0.2982\n",
            "Epoch 46/50\n",
            "8/8 [==============================] - ETA: 0s - loss: 0.5444 - accuracy: 0.8622\n",
            "Epoch 00046: saving model to ./raw dataset\\weights.h5\n",
            "8/8 [==============================] - 17s 2s/step - loss: 0.5444 - accuracy: 0.8622 - val_loss: 1.7145 - val_accuracy: 0.4386\n",
            "Epoch 47/50\n",
            "8/8 [==============================] - ETA: 0s - loss: 0.6291 - accuracy: 0.8267\n",
            "Epoch 00047: saving model to ./raw dataset\\weights.h5\n",
            "8/8 [==============================] - 16s 2s/step - loss: 0.6291 - accuracy: 0.8267 - val_loss: 2.0921 - val_accuracy: 0.3509\n",
            "Epoch 48/50\n",
            "8/8 [==============================] - ETA: 0s - loss: 0.6285 - accuracy: 0.8222\n",
            "Epoch 00048: saving model to ./raw dataset\\weights.h5\n",
            "8/8 [==============================] - 17s 2s/step - loss: 0.6285 - accuracy: 0.8222 - val_loss: 2.0140 - val_accuracy: 0.3158\n",
            "Epoch 49/50\n",
            "8/8 [==============================] - ETA: 0s - loss: 0.5608 - accuracy: 0.8622\n",
            "Epoch 00049: saving model to ./raw dataset\\weights.h5\n",
            "8/8 [==============================] - 17s 2s/step - loss: 0.5608 - accuracy: 0.8622 - val_loss: 1.3979 - val_accuracy: 0.3333\n",
            "Epoch 50/50\n",
            "8/8 [==============================] - ETA: 0s - loss: 0.4444 - accuracy: 0.9156\n",
            "Epoch 00050: saving model to ./raw dataset\\weights.h5\n",
            "8/8 [==============================] - 17s 2s/step - loss: 0.4444 - accuracy: 0.9156 - val_loss: 1.4968 - val_accuracy: 0.4035\n",
            "17/17 - 5s - loss: 1.0056 - accuracy: 0.6048 - 5s/epoch - 307ms/step\n",
            "\n",
            "\n",
            "Test loss: 1.0056474208831787\n",
            "Test accuracy: 0.6048237681388855\n"
          ]
        },
        {
          "data": {
            "image/png": "[encoded data removed]",
            "text/plain": [
              "<Figure size 720x288 with 1 Axes>"
            ]
          },
          "metadata": {
            "needs_background": "light"
          },
          "output_type": "display_data"
        },
        {
          "data": {
            "image/png": "[encoded data removed]",
            "text/plain": [
              "<Figure size 720x288 with 1 Axes>"
            ]
          },
          "metadata": {
            "needs_background": "light"
          },
          "output_type": "display_data"
        }
      ],
      "source": [
        "checkpoint = tf.keras.callbacks.ModelCheckpoint(raw_dataset+'weights.h5', monitor='val_accuracy', save_best_only=False, verbose=2)\n",
        "\n",
        "history = model1.fit(X_train, Y_train_OH,\n",
        "                    batch_size = 32,\n",
        "                    epochs = 50,\n",
        "                    verbose=1,\n",
        "                    validation_split = 0.2,\n",
        "                    callbacks=[checkpoint])\n",
        "\n",
        "loss, accuracy = model1.evaluate(X_test, Y_test_OH, batch_size = 32, verbose=2)\n",
        "\n",
        "print('\\n\\nTest loss:', loss)\n",
        "print('Test accuracy:', accuracy)\n",
        "\n",
        "dff = pd.DataFrame(history.history)\n",
        "plt.figure(figsize=(10,4))\n",
        "plt.plot(range(len(dff['val_accuracy'])), dff['val_accuracy'], label='Validation Accuracy')\n",
        "plt.plot(range(len(dff['accuracy'])), dff['accuracy'], label='Train Accuracy')\n",
        "plt.legend()\n",
        "plt.xlabel('Epoch')\n",
        "plt.show()\n",
        "\n",
        "plt.figure(figsize=(10,4))\n",
        "plt.plot(range(len(dff['val_loss'])), dff['val_loss'], label='Validation Loss')\n",
        "plt.plot(range(len(dff['loss'])), dff['loss'], label='Train Loss')\n",
        "plt.legend()\n",
        "plt.xlabel('Epoch')\n",
        "plt.show()"
      ]
    },
    {
      "cell_type": "code",
      "execution_count": 50,
      "metadata": {},
      "outputs": [
        {
          "data": {
            "text/plain": [
              "(1.0056474208831787, 0.6048237681388855)"
            ]
          },
          "execution_count": 50,
          "metadata": {},
          "output_type": "execute_result"
        }
      ],
      "source": [
        "loss1 = loss\n",
        "acc1 = accuracy\n",
        "loss1, acc1"
      ]
    }
  ],
  "metadata": {
    "colab": {
      "collapsed_sections": [
        "PxXcr-Dfu5Tn",
        "rXtjJPPPyDqk"
      ],
      "name": "biLSTM_testing.ipynb",
      "provenance": []
    },
    "kernelspec": {
      "display_name": "Python 3",
      "name": "python3"
    },
    "language_info": {
      "codemirror_mode": {
        "name": "ipython",
        "version": 3
      },
      "file_extension": ".py",
      "mimetype": "text/x-python",
      "name": "python",
      "nbconvert_exporter": "python",
      "pygments_lexer": "ipython3",
      "version": "3.9.1"
    }
  },
  "nbformat": 4,
  "nbformat_minor": 0
}
